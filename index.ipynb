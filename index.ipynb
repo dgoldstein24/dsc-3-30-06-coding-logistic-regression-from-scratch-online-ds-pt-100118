{
 "cells": [
  {
   "cell_type": "markdown",
   "metadata": {},
   "source": [
    "# Coding Logistic Regression From Scratch - Lab\n",
    "\n",
    "## Introduction\n",
    "\n",
    "In this lab, you'll practice your ability to translate mathematical algorithms into python functions. This will deepen and solidify your understanding of the logistic regression!\n",
    "\n",
    "## Objectives\n",
    "\n",
    "You will be able to:\n",
    "* Understand and implement logistic regression"
   ]
  },
  {
   "cell_type": "markdown",
   "metadata": {},
   "source": [
    "## Overview\n",
    "\n",
    "Recall that the logistic regression algorithm take our previous intuition from logistic regression. In logistic regression, we start by taking our input data, X and multiplying it by a vector of weights for each of the individual features, which produces our output y. Afterwards we'll work on using an iterative approach via gradient descent to tune these weights."
   ]
  },
  {
   "cell_type": "markdown",
   "metadata": {},
   "source": [
    "## Linear Regression Setup\n",
    "\n",
    "Write a simple function `predict_y` that takes in a matrix `X` of observations and a vector of feature weights `w` and outputs a vector of predictions for the various observations.\n",
    "\n",
    "Recall that this is the sum of the product of each of the feature observations and their corresponding feature weights:  \n",
    "$ \\hat{y}_i = X_{i1} \\bullet w_1 + X_{i2} \\bullet w_2 + X_{i3} \\bullet w_3 + ... + X_{in} \\bullet w_n$\n",
    "\n",
    "Hint: think about which mathematical operation we previously discussed that will take a matrix (X) and multiply it by a vector of weights (w) to succinctly do this in a single operation."
   ]
  },
  {
   "cell_type": "code",
   "execution_count": 1,
   "metadata": {},
   "outputs": [],
   "source": [
    "#Your code here\n",
    "def predict_y(X, w):\n",
    "    return np.dot(X,w)"
   ]
  },
  {
   "cell_type": "markdown",
   "metadata": {},
   "source": [
    "## The Sigmoid Function\n",
    "\n",
    "Recall that the sigmoid function is used to map our previous linear regression model to a range of 0 to 1, satisfying basic premises of probability. As a reminder, the sigmoid function is defined by:  \n",
    "$\\frac{1}{1+e^(-x)}$  \n",
    "Write this as a python function where x is the input and the function outputs the result of the sigmoid function."
   ]
  },
  {
   "cell_type": "code",
   "execution_count": 5,
   "metadata": {},
   "outputs": [],
   "source": [
    "import math\n",
    "import numpy as np\n",
    "#Your code here\n",
    "def sigmoid(x):\n",
    "    x = np.array(x)\n",
    "    return 1/(1+(math.e ** - x))"
   ]
  },
  {
   "cell_type": "markdown",
   "metadata": {},
   "source": [
    "## Graphing the Sigmoid\n",
    "\n",
    "For good measure, let's do a brief investigation of your new function. Graph the output of your sigmoid function using 10,000 X values evenly spaced from -20 to 20."
   ]
  },
  {
   "cell_type": "code",
   "execution_count": 8,
   "metadata": {},
   "outputs": [
    {
     "data": {
      "image/png": "[encoded data removed]",
      "text/plain": [
       "<Figure size 432x288 with 1 Axes>"
      ]
     },
     "metadata": {},
     "output_type": "display_data"
    }
   ],
   "source": [
    "#Your code here\n",
    "\n",
    "import matplotlib.pyplot as plt\n",
    "\n",
    "X = np.linspace(start = -20, stop = 20, num = 10000)\n",
    "y = sigmoid(X)\n",
    "plt.plot(X, y)\n",
    "plt.show()"
   ]
  },
  {
   "cell_type": "markdown",
   "metadata": {},
   "source": [
    "## Gradient Descent with the Sigmoid Function\n",
    "\n",
    "Recall that gradient descent is a numerical method for finding a minimum to a cost function. In the case of logistic regression, we are looking to minimize the error between our model's predictions and the actual data labels. To do this, we first calculate an error vector based on the current model's feature weights. We then multiply the transpose of the training matrix itself by this error vector in order to obtain the gradient. Finally, we take the gradient, multiply it by our step size and add this to our current weight vector to update it. Below, write such a function. It will take 5 inputs:  \n",
    "* X\n",
    "* y\n",
    "* max_iterations\n",
    "* alpha (the step size)\n",
    "* initial_weights  \n",
    "By default, have your function set the initial_weights parameter to a vector where all feature weights are set to 1."
   ]
  },
  {
   "cell_type": "code",
   "execution_count": 25,
   "metadata": {},
   "outputs": [
    {
     "data": {
      "text/plain": [
       "13"
      ]
     },
     "execution_count": 25,
     "metadata": {},
     "output_type": "execute_result"
    }
   ],
   "source": [
    "X.shape[1]"
   ]
  },
  {
   "cell_type": "code",
   "execution_count": 31,
   "metadata": {},
   "outputs": [
    {
     "data": {
      "text/plain": [
       "array([[1., 1., 1., 1., 1., 1., 1., 1., 1., 1., 1., 1., 1.]])"
      ]
     },
     "execution_count": 31,
     "metadata": {},
     "output_type": "execute_result"
    }
   ],
   "source": [
    "np.ones((X.shape[1], 1)).transpose()"
   ]
  },
  {
   "cell_type": "code",
   "execution_count": 50,
   "metadata": {},
   "outputs": [],
   "source": [
    "# Your code here\n",
    "def grad_desc(X, y, max_iterations, alpha, initial_weights=None):\n",
    "    \"\"\"Be sure to set default behavior for the initial_weights parameter.\"\"\"\n",
    "    if initial_weights == None:\n",
    "        initial_weights = np.ones((X.shape[1], 1)).flatten()\n",
    "        initial_weights += 1\n",
    "        \n",
    "    weights_col = pd.DataFrame(initial_weights)\n",
    "    weights = initial_weights\n",
    "        \n",
    "        \n",
    "    #Create a for loop of iterations\n",
    "        \n",
    "    for iteration in range(max_iterations):\n",
    "            \n",
    "    #Generate predictions using the current feature weights\n",
    "        predictions = sigmoid(predict_y(X,weights))\n",
    "            \n",
    "       #Calculate an error vector based on these initial predictions and the correct labels    \n",
    "        error = y - predictions\n",
    "        \n",
    "        #Calculate the gradient \n",
    "        #As we saw in the previous lab, calculating the gradient is often the most difficult task.\n",
    "        #Here, your are provided with the closed form solution for the gradient of the log-loss function derived from MLE\n",
    "        #For more details on the derivation, see the additional resources section below.\n",
    "        gradient = np.dot(X.transpose(),error) \n",
    "        weights += alpha * gradient\n",
    "        weights_col = pd.concat([weights_col, pd.DataFrame(weights)], axis = 1)\n",
    "    return weights, weights_col\n",
    "        \n",
    "        \n",
    "        \n",
    "        \n",
    "        #Update the weight vector take a step of alpha in direction of gradient \n",
    "    #Return finalized Weights"
   ]
  },
  {
   "cell_type": "markdown",
   "metadata": {},
   "source": [
    "## Running Your Algorithm\n",
    "\n",
    "Now that we've coded everything from the ground up, we can further investigate the convergence behavior of our gradient descent algorithm. Remember that gradient descent does not gaurantee a global minimum, only a local minimum, and that small deviations in the starting point or step size can lead to different outputs.  \n",
    "  \n",
    "Let's begin by running our algorithm and plotting the successive weights of the features through iterations. Below is a dataset, with X and y predefined for you. Use your logistic regression function to find train a model. As the model trains, record the iteration cycle of the gradient descent algorithm and the weights of the various features. Then, plot this data on subplots for each of the individual features. Each graph should have the iteration number on the x-axis and the value of that feature weight for that iteration cycle on the y-axis. This will visually display how the algorithm is adjusting the weights over successive iterations, and hopefully show convergence on stable weights."
   ]
  },
  {
   "cell_type": "code",
   "execution_count": 51,
   "metadata": {},
   "outputs": [
    {
     "name": "stdout",
     "output_type": "stream",
     "text": [
      "1.0    165\n",
      "0.0    138\n",
      "Name: target, dtype: int64\n"
     ]
    },
    {
     "data": {
      "text/html": [
       "<div>\n",
       "<style scoped>\n",
       "    .dataframe tbody tr th:only-of-type {\n",
       "        vertical-align: middle;\n",
       "    }\n",
       "\n",
       "    .dataframe tbody tr th {\n",
       "        vertical-align: top;\n",
       "    }\n",
       "\n",
       "    .dataframe thead th {\n",
       "        text-align: right;\n",
       "    }\n",
       "</style>\n",
       "<table border=\"1\" class=\"dataframe\">\n",
       "  <thead>\n",
       "    <tr style=\"text-align: right;\">\n",
       "      <th></th>\n",
       "      <th>age</th>\n",
       "      <th>sex</th>\n",
       "      <th>cp</th>\n",
       "      <th>trestbps</th>\n",
       "      <th>chol</th>\n",
       "      <th>fbs</th>\n",
       "      <th>restecg</th>\n",
       "      <th>thalach</th>\n",
       "      <th>exang</th>\n",
       "      <th>oldpeak</th>\n",
       "      <th>slope</th>\n",
       "      <th>ca</th>\n",
       "      <th>thal</th>\n",
       "    </tr>\n",
       "  </thead>\n",
       "  <tbody>\n",
       "    <tr>\n",
       "      <th>0</th>\n",
       "      <td>0.708333</td>\n",
       "      <td>1.0</td>\n",
       "      <td>1.000000</td>\n",
       "      <td>0.481132</td>\n",
       "      <td>0.244292</td>\n",
       "      <td>1.0</td>\n",
       "      <td>0.0</td>\n",
       "      <td>0.603053</td>\n",
       "      <td>0.0</td>\n",
       "      <td>0.370968</td>\n",
       "      <td>0.0</td>\n",
       "      <td>0.0</td>\n",
       "      <td>0.333333</td>\n",
       "    </tr>\n",
       "    <tr>\n",
       "      <th>1</th>\n",
       "      <td>0.166667</td>\n",
       "      <td>1.0</td>\n",
       "      <td>0.666667</td>\n",
       "      <td>0.339623</td>\n",
       "      <td>0.283105</td>\n",
       "      <td>0.0</td>\n",
       "      <td>0.5</td>\n",
       "      <td>0.885496</td>\n",
       "      <td>0.0</td>\n",
       "      <td>0.564516</td>\n",
       "      <td>0.0</td>\n",
       "      <td>0.0</td>\n",
       "      <td>0.666667</td>\n",
       "    </tr>\n",
       "    <tr>\n",
       "      <th>2</th>\n",
       "      <td>0.250000</td>\n",
       "      <td>0.0</td>\n",
       "      <td>0.333333</td>\n",
       "      <td>0.339623</td>\n",
       "      <td>0.178082</td>\n",
       "      <td>0.0</td>\n",
       "      <td>0.0</td>\n",
       "      <td>0.770992</td>\n",
       "      <td>0.0</td>\n",
       "      <td>0.225806</td>\n",
       "      <td>1.0</td>\n",
       "      <td>0.0</td>\n",
       "      <td>0.666667</td>\n",
       "    </tr>\n",
       "    <tr>\n",
       "      <th>3</th>\n",
       "      <td>0.562500</td>\n",
       "      <td>1.0</td>\n",
       "      <td>0.333333</td>\n",
       "      <td>0.245283</td>\n",
       "      <td>0.251142</td>\n",
       "      <td>0.0</td>\n",
       "      <td>0.5</td>\n",
       "      <td>0.816794</td>\n",
       "      <td>0.0</td>\n",
       "      <td>0.129032</td>\n",
       "      <td>1.0</td>\n",
       "      <td>0.0</td>\n",
       "      <td>0.666667</td>\n",
       "    </tr>\n",
       "    <tr>\n",
       "      <th>4</th>\n",
       "      <td>0.583333</td>\n",
       "      <td>0.0</td>\n",
       "      <td>0.000000</td>\n",
       "      <td>0.245283</td>\n",
       "      <td>0.520548</td>\n",
       "      <td>0.0</td>\n",
       "      <td>0.5</td>\n",
       "      <td>0.702290</td>\n",
       "      <td>1.0</td>\n",
       "      <td>0.096774</td>\n",
       "      <td>1.0</td>\n",
       "      <td>0.0</td>\n",
       "      <td>0.666667</td>\n",
       "    </tr>\n",
       "  </tbody>\n",
       "</table>\n",
       "</div>"
      ],
      "text/plain": [
       "        age  sex        cp  trestbps      chol  fbs  restecg   thalach  exang  \\\n",
       "0  0.708333  1.0  1.000000  0.481132  0.244292  1.0      0.0  0.603053    0.0   \n",
       "1  0.166667  1.0  0.666667  0.339623  0.283105  0.0      0.5  0.885496    0.0   \n",
       "2  0.250000  0.0  0.333333  0.339623  0.178082  0.0      0.0  0.770992    0.0   \n",
       "3  0.562500  1.0  0.333333  0.245283  0.251142  0.0      0.5  0.816794    0.0   \n",
       "4  0.583333  0.0  0.000000  0.245283  0.520548  0.0      0.5  0.702290    1.0   \n",
       "\n",
       "    oldpeak  slope   ca      thal  \n",
       "0  0.370968    0.0  0.0  0.333333  \n",
       "1  0.564516    0.0  0.0  0.666667  \n",
       "2  0.225806    1.0  0.0  0.666667  \n",
       "3  0.129032    1.0  0.0  0.666667  \n",
       "4  0.096774    1.0  0.0  0.666667  "
      ]
     },
     "execution_count": 51,
     "metadata": {},
     "output_type": "execute_result"
    }
   ],
   "source": [
    "import pandas as pd\n",
    "df = pd.read_csv('heart.csv')\n",
    "X = df[df.columns[:-1]]\n",
    "y = df.target\n",
    "print(y.value_counts())\n",
    "X.head()"
   ]
  },
  {
   "cell_type": "code",
   "execution_count": 60,
   "metadata": {},
   "outputs": [],
   "source": [
    "weights, weight_col = grad_desc(X,y, 10000, .001)"
   ]
  },
  {
   "cell_type": "code",
   "execution_count": 61,
   "metadata": {},
   "outputs": [
    {
     "data": {
      "text/html": [
       "<div>\n",
       "<style scoped>\n",
       "    .dataframe tbody tr th:only-of-type {\n",
       "        vertical-align: middle;\n",
       "    }\n",
       "\n",
       "    .dataframe tbody tr th {\n",
       "        vertical-align: top;\n",
       "    }\n",
       "\n",
       "    .dataframe thead th {\n",
       "        text-align: right;\n",
       "    }\n",
       "</style>\n",
       "<table border=\"1\" class=\"dataframe\">\n",
       "  <thead>\n",
       "    <tr style=\"text-align: right;\">\n",
       "      <th></th>\n",
       "      <th>0</th>\n",
       "      <th>0</th>\n",
       "      <th>0</th>\n",
       "      <th>0</th>\n",
       "      <th>0</th>\n",
       "      <th>0</th>\n",
       "      <th>0</th>\n",
       "      <th>0</th>\n",
       "      <th>0</th>\n",
       "      <th>0</th>\n",
       "      <th>...</th>\n",
       "      <th>0</th>\n",
       "      <th>0</th>\n",
       "      <th>0</th>\n",
       "      <th>0</th>\n",
       "      <th>0</th>\n",
       "      <th>0</th>\n",
       "      <th>0</th>\n",
       "      <th>0</th>\n",
       "      <th>0</th>\n",
       "      <th>0</th>\n",
       "    </tr>\n",
       "  </thead>\n",
       "  <tbody>\n",
       "    <tr>\n",
       "      <th>0</th>\n",
       "      <td>1.920669</td>\n",
       "      <td>1.920669</td>\n",
       "      <td>1.841346</td>\n",
       "      <td>1.762031</td>\n",
       "      <td>1.682730</td>\n",
       "      <td>1.603445</td>\n",
       "      <td>1.524183</td>\n",
       "      <td>1.444951</td>\n",
       "      <td>1.365762</td>\n",
       "      <td>1.286631</td>\n",
       "      <td>...</td>\n",
       "      <td>0.776211</td>\n",
       "      <td>0.776223</td>\n",
       "      <td>0.776235</td>\n",
       "      <td>0.776247</td>\n",
       "      <td>0.776259</td>\n",
       "      <td>0.776271</td>\n",
       "      <td>0.776283</td>\n",
       "      <td>0.776295</td>\n",
       "      <td>0.776307</td>\n",
       "      <td>0.776319</td>\n",
       "    </tr>\n",
       "    <tr>\n",
       "      <th>1</th>\n",
       "      <td>1.886007</td>\n",
       "      <td>1.886007</td>\n",
       "      <td>1.772018</td>\n",
       "      <td>1.658034</td>\n",
       "      <td>1.544058</td>\n",
       "      <td>1.430092</td>\n",
       "      <td>1.316143</td>\n",
       "      <td>1.202219</td>\n",
       "      <td>1.088330</td>\n",
       "      <td>0.974495</td>\n",
       "      <td>...</td>\n",
       "      <td>-1.600096</td>\n",
       "      <td>-1.600100</td>\n",
       "      <td>-1.600104</td>\n",
       "      <td>-1.600108</td>\n",
       "      <td>-1.600112</td>\n",
       "      <td>-1.600116</td>\n",
       "      <td>-1.600120</td>\n",
       "      <td>-1.600124</td>\n",
       "      <td>-1.600127</td>\n",
       "      <td>-1.600131</td>\n",
       "    </tr>\n",
       "    <tr>\n",
       "      <th>2</th>\n",
       "      <td>1.978010</td>\n",
       "      <td>1.978010</td>\n",
       "      <td>1.956024</td>\n",
       "      <td>1.934042</td>\n",
       "      <td>1.912065</td>\n",
       "      <td>1.890096</td>\n",
       "      <td>1.868137</td>\n",
       "      <td>1.846192</td>\n",
       "      <td>1.824265</td>\n",
       "      <td>1.802363</td>\n",
       "      <td>...</td>\n",
       "      <td>2.617840</td>\n",
       "      <td>2.617840</td>\n",
       "      <td>2.617841</td>\n",
       "      <td>2.617841</td>\n",
       "      <td>2.617841</td>\n",
       "      <td>2.617841</td>\n",
       "      <td>2.617841</td>\n",
       "      <td>2.617842</td>\n",
       "      <td>2.617842</td>\n",
       "      <td>2.617842</td>\n",
       "    </tr>\n",
       "    <tr>\n",
       "      <th>3</th>\n",
       "      <td>1.947418</td>\n",
       "      <td>1.947418</td>\n",
       "      <td>1.894840</td>\n",
       "      <td>1.842267</td>\n",
       "      <td>1.789702</td>\n",
       "      <td>1.737146</td>\n",
       "      <td>1.684603</td>\n",
       "      <td>1.632079</td>\n",
       "      <td>1.579580</td>\n",
       "      <td>1.527115</td>\n",
       "      <td>...</td>\n",
       "      <td>-1.950357</td>\n",
       "      <td>-1.950363</td>\n",
       "      <td>-1.950370</td>\n",
       "      <td>-1.950376</td>\n",
       "      <td>-1.950383</td>\n",
       "      <td>-1.950390</td>\n",
       "      <td>-1.950396</td>\n",
       "      <td>-1.950403</td>\n",
       "      <td>-1.950409</td>\n",
       "      <td>-1.950416</td>\n",
       "    </tr>\n",
       "    <tr>\n",
       "      <th>4</th>\n",
       "      <td>1.960603</td>\n",
       "      <td>1.960603</td>\n",
       "      <td>1.921209</td>\n",
       "      <td>1.881821</td>\n",
       "      <td>1.842440</td>\n",
       "      <td>1.803068</td>\n",
       "      <td>1.763708</td>\n",
       "      <td>1.724366</td>\n",
       "      <td>1.685047</td>\n",
       "      <td>1.645759</td>\n",
       "      <td>...</td>\n",
       "      <td>-1.376684</td>\n",
       "      <td>-1.376724</td>\n",
       "      <td>-1.376765</td>\n",
       "      <td>-1.376805</td>\n",
       "      <td>-1.376845</td>\n",
       "      <td>-1.376886</td>\n",
       "      <td>-1.376926</td>\n",
       "      <td>-1.376966</td>\n",
       "      <td>-1.377007</td>\n",
       "      <td>-1.377047</td>\n",
       "    </tr>\n",
       "  </tbody>\n",
       "</table>\n",
       "<p>5 rows × 10001 columns</p>\n",
       "</div>"
      ],
      "text/plain": [
       "          0         0         0         0         0         0         0  \\\n",
       "0  1.920669  1.920669  1.841346  1.762031  1.682730  1.603445  1.524183   \n",
       "1  1.886007  1.886007  1.772018  1.658034  1.544058  1.430092  1.316143   \n",
       "2  1.978010  1.978010  1.956024  1.934042  1.912065  1.890096  1.868137   \n",
       "3  1.947418  1.947418  1.894840  1.842267  1.789702  1.737146  1.684603   \n",
       "4  1.960603  1.960603  1.921209  1.881821  1.842440  1.803068  1.763708   \n",
       "\n",
       "          0         0         0  ...         0         0         0         0  \\\n",
       "0  1.444951  1.365762  1.286631  ...  0.776211  0.776223  0.776235  0.776247   \n",
       "1  1.202219  1.088330  0.974495  ... -1.600096 -1.600100 -1.600104 -1.600108   \n",
       "2  1.846192  1.824265  1.802363  ...  2.617840  2.617840  2.617841  2.617841   \n",
       "3  1.632079  1.579580  1.527115  ... -1.950357 -1.950363 -1.950370 -1.950376   \n",
       "4  1.724366  1.685047  1.645759  ... -1.376684 -1.376724 -1.376765 -1.376805   \n",
       "\n",
       "          0         0         0         0         0         0  \n",
       "0  0.776259  0.776271  0.776283  0.776295  0.776307  0.776319  \n",
       "1 -1.600112 -1.600116 -1.600120 -1.600124 -1.600127 -1.600131  \n",
       "2  2.617841  2.617841  2.617841  2.617842  2.617842  2.617842  \n",
       "3 -1.950383 -1.950390 -1.950396 -1.950403 -1.950409 -1.950416  \n",
       "4 -1.376845 -1.376886 -1.376926 -1.376966 -1.377007 -1.377047  \n",
       "\n",
       "[5 rows x 10001 columns]"
      ]
     },
     "execution_count": 61,
     "metadata": {},
     "output_type": "execute_result"
    }
   ],
   "source": [
    "weight_col.head()"
   ]
  },
  {
   "cell_type": "code",
   "execution_count": 62,
   "metadata": {},
   "outputs": [],
   "source": [
    "weight_col.columns = np.arange(len(weight_col.columns))"
   ]
  },
  {
   "cell_type": "code",
   "execution_count": 63,
   "metadata": {},
   "outputs": [
    {
     "data": {
      "text/html": [
       "<div>\n",
       "<style scoped>\n",
       "    .dataframe tbody tr th:only-of-type {\n",
       "        vertical-align: middle;\n",
       "    }\n",
       "\n",
       "    .dataframe tbody tr th {\n",
       "        vertical-align: top;\n",
       "    }\n",
       "\n",
       "    .dataframe thead th {\n",
       "        text-align: right;\n",
       "    }\n",
       "</style>\n",
       "<table border=\"1\" class=\"dataframe\">\n",
       "  <thead>\n",
       "    <tr style=\"text-align: right;\">\n",
       "      <th></th>\n",
       "      <th>0</th>\n",
       "      <th>1</th>\n",
       "      <th>2</th>\n",
       "      <th>3</th>\n",
       "      <th>4</th>\n",
       "      <th>5</th>\n",
       "      <th>6</th>\n",
       "      <th>7</th>\n",
       "      <th>8</th>\n",
       "      <th>9</th>\n",
       "      <th>...</th>\n",
       "      <th>9991</th>\n",
       "      <th>9992</th>\n",
       "      <th>9993</th>\n",
       "      <th>9994</th>\n",
       "      <th>9995</th>\n",
       "      <th>9996</th>\n",
       "      <th>9997</th>\n",
       "      <th>9998</th>\n",
       "      <th>9999</th>\n",
       "      <th>10000</th>\n",
       "    </tr>\n",
       "  </thead>\n",
       "  <tbody>\n",
       "    <tr>\n",
       "      <th>0</th>\n",
       "      <td>1.920669</td>\n",
       "      <td>1.920669</td>\n",
       "      <td>1.841346</td>\n",
       "      <td>1.762031</td>\n",
       "      <td>1.682730</td>\n",
       "      <td>1.603445</td>\n",
       "      <td>1.524183</td>\n",
       "      <td>1.444951</td>\n",
       "      <td>1.365762</td>\n",
       "      <td>1.286631</td>\n",
       "      <td>...</td>\n",
       "      <td>0.776211</td>\n",
       "      <td>0.776223</td>\n",
       "      <td>0.776235</td>\n",
       "      <td>0.776247</td>\n",
       "      <td>0.776259</td>\n",
       "      <td>0.776271</td>\n",
       "      <td>0.776283</td>\n",
       "      <td>0.776295</td>\n",
       "      <td>0.776307</td>\n",
       "      <td>0.776319</td>\n",
       "    </tr>\n",
       "    <tr>\n",
       "      <th>1</th>\n",
       "      <td>1.886007</td>\n",
       "      <td>1.886007</td>\n",
       "      <td>1.772018</td>\n",
       "      <td>1.658034</td>\n",
       "      <td>1.544058</td>\n",
       "      <td>1.430092</td>\n",
       "      <td>1.316143</td>\n",
       "      <td>1.202219</td>\n",
       "      <td>1.088330</td>\n",
       "      <td>0.974495</td>\n",
       "      <td>...</td>\n",
       "      <td>-1.600096</td>\n",
       "      <td>-1.600100</td>\n",
       "      <td>-1.600104</td>\n",
       "      <td>-1.600108</td>\n",
       "      <td>-1.600112</td>\n",
       "      <td>-1.600116</td>\n",
       "      <td>-1.600120</td>\n",
       "      <td>-1.600124</td>\n",
       "      <td>-1.600127</td>\n",
       "      <td>-1.600131</td>\n",
       "    </tr>\n",
       "    <tr>\n",
       "      <th>2</th>\n",
       "      <td>1.978010</td>\n",
       "      <td>1.978010</td>\n",
       "      <td>1.956024</td>\n",
       "      <td>1.934042</td>\n",
       "      <td>1.912065</td>\n",
       "      <td>1.890096</td>\n",
       "      <td>1.868137</td>\n",
       "      <td>1.846192</td>\n",
       "      <td>1.824265</td>\n",
       "      <td>1.802363</td>\n",
       "      <td>...</td>\n",
       "      <td>2.617840</td>\n",
       "      <td>2.617840</td>\n",
       "      <td>2.617841</td>\n",
       "      <td>2.617841</td>\n",
       "      <td>2.617841</td>\n",
       "      <td>2.617841</td>\n",
       "      <td>2.617841</td>\n",
       "      <td>2.617842</td>\n",
       "      <td>2.617842</td>\n",
       "      <td>2.617842</td>\n",
       "    </tr>\n",
       "    <tr>\n",
       "      <th>3</th>\n",
       "      <td>1.947418</td>\n",
       "      <td>1.947418</td>\n",
       "      <td>1.894840</td>\n",
       "      <td>1.842267</td>\n",
       "      <td>1.789702</td>\n",
       "      <td>1.737146</td>\n",
       "      <td>1.684603</td>\n",
       "      <td>1.632079</td>\n",
       "      <td>1.579580</td>\n",
       "      <td>1.527115</td>\n",
       "      <td>...</td>\n",
       "      <td>-1.950357</td>\n",
       "      <td>-1.950363</td>\n",
       "      <td>-1.950370</td>\n",
       "      <td>-1.950376</td>\n",
       "      <td>-1.950383</td>\n",
       "      <td>-1.950390</td>\n",
       "      <td>-1.950396</td>\n",
       "      <td>-1.950403</td>\n",
       "      <td>-1.950409</td>\n",
       "      <td>-1.950416</td>\n",
       "    </tr>\n",
       "    <tr>\n",
       "      <th>4</th>\n",
       "      <td>1.960603</td>\n",
       "      <td>1.960603</td>\n",
       "      <td>1.921209</td>\n",
       "      <td>1.881821</td>\n",
       "      <td>1.842440</td>\n",
       "      <td>1.803068</td>\n",
       "      <td>1.763708</td>\n",
       "      <td>1.724366</td>\n",
       "      <td>1.685047</td>\n",
       "      <td>1.645759</td>\n",
       "      <td>...</td>\n",
       "      <td>-1.376684</td>\n",
       "      <td>-1.376724</td>\n",
       "      <td>-1.376765</td>\n",
       "      <td>-1.376805</td>\n",
       "      <td>-1.376845</td>\n",
       "      <td>-1.376886</td>\n",
       "      <td>-1.376926</td>\n",
       "      <td>-1.376966</td>\n",
       "      <td>-1.377007</td>\n",
       "      <td>-1.377047</td>\n",
       "    </tr>\n",
       "  </tbody>\n",
       "</table>\n",
       "<p>5 rows × 10001 columns</p>\n",
       "</div>"
      ],
      "text/plain": [
       "      0         1         2         3         4         5         6      \\\n",
       "0  1.920669  1.920669  1.841346  1.762031  1.682730  1.603445  1.524183   \n",
       "1  1.886007  1.886007  1.772018  1.658034  1.544058  1.430092  1.316143   \n",
       "2  1.978010  1.978010  1.956024  1.934042  1.912065  1.890096  1.868137   \n",
       "3  1.947418  1.947418  1.894840  1.842267  1.789702  1.737146  1.684603   \n",
       "4  1.960603  1.960603  1.921209  1.881821  1.842440  1.803068  1.763708   \n",
       "\n",
       "      7         8         9      ...     9991      9992      9993      9994   \\\n",
       "0  1.444951  1.365762  1.286631  ...  0.776211  0.776223  0.776235  0.776247   \n",
       "1  1.202219  1.088330  0.974495  ... -1.600096 -1.600100 -1.600104 -1.600108   \n",
       "2  1.846192  1.824265  1.802363  ...  2.617840  2.617840  2.617841  2.617841   \n",
       "3  1.632079  1.579580  1.527115  ... -1.950357 -1.950363 -1.950370 -1.950376   \n",
       "4  1.724366  1.685047  1.645759  ... -1.376684 -1.376724 -1.376765 -1.376805   \n",
       "\n",
       "      9995      9996      9997      9998      9999      10000  \n",
       "0  0.776259  0.776271  0.776283  0.776295  0.776307  0.776319  \n",
       "1 -1.600112 -1.600116 -1.600120 -1.600124 -1.600127 -1.600131  \n",
       "2  2.617841  2.617841  2.617841  2.617842  2.617842  2.617842  \n",
       "3 -1.950383 -1.950390 -1.950396 -1.950403 -1.950409 -1.950416  \n",
       "4 -1.376845 -1.376886 -1.376926 -1.376966 -1.377007 -1.377047  \n",
       "\n",
       "[5 rows x 10001 columns]"
      ]
     },
     "execution_count": 63,
     "metadata": {},
     "output_type": "execute_result"
    }
   ],
   "source": [
    "weight_col.head()"
   ]
  },
  {
   "cell_type": "code",
   "execution_count": 67,
   "metadata": {},
   "outputs": [
    {
     "data": {
      "image/png": "[encoded data removed]",
      "text/plain": [
       "<Figure size 1440x1152 with 13 Axes>"
      ]
     },
     "metadata": {},
     "output_type": "display_data"
    }
   ],
   "source": [
    "plt.figure(figsize = (20,16))\n",
    "for (i,j) in enumerate(weights):\n",
    "    plt.subplot(3,5, i + 1)\n",
    "    plt.title(list(X)[i], size = 'medium')\n",
    "    plt.plot(weight_col.iloc[i].T)\n",
    "    plt.axis('tight')"
   ]
  },
  {
   "cell_type": "markdown",
   "metadata": {},
   "source": [
    "## sci-kit learn\n",
    "\n",
    "For comparison, import sci-kit learn's standard LogisticRegression function. Initialize a regression object with **no intercept** and with **C=1e16** or another very high number. The reason is as follows: our implementation has not used an intercept, and we have not performed any regularization such as Lasso or Ridge (sci-kit learn uses l2 by default). The high value of C will essentially negate this.\n",
    "\n",
    "After initializing a regression object, fit it to X and y."
   ]
  },
  {
   "cell_type": "code",
   "execution_count": 68,
   "metadata": {},
   "outputs": [
    {
     "data": {
      "text/plain": [
       "LogisticRegression(C=1e+16, class_weight=None, dual=False,\n",
       "          fit_intercept=False, intercept_scaling=1, max_iter=100,\n",
       "          multi_class='ovr', n_jobs=1, penalty='l2', random_state=2,\n",
       "          solver='liblinear', tol=0.0001, verbose=0, warm_start=False)"
      ]
     },
     "execution_count": 68,
     "metadata": {},
     "output_type": "execute_result"
    }
   ],
   "source": [
    "# Your code here\n",
    "from sklearn.linear_model import LogisticRegression\n",
    "\n",
    "logreg = LogisticRegression(fit_intercept = False, C = 1e16, random_state = 2)\n",
    "model = logreg.fit(X,y)\n",
    "model\n"
   ]
  },
  {
   "cell_type": "markdown",
   "metadata": {},
   "source": [
    "## Compare the models\n",
    "\n",
    "Compare the coefficient weights of your model to that generated by sci-kit learn."
   ]
  },
  {
   "cell_type": "code",
   "execution_count": 70,
   "metadata": {},
   "outputs": [
    {
     "data": {
      "text/plain": [
       "array([ 0.81221467, -1.61293693,  2.6179496 , -1.96887354, -1.50936862,\n",
       "        0.05688225,  1.1521945 ,  4.42098698, -0.83027951, -2.74686109,\n",
       "        1.45580368, -3.115599  , -2.19130405])"
      ]
     },
     "execution_count": 70,
     "metadata": {},
     "output_type": "execute_result"
    }
   ],
   "source": [
    "# Your code here\n",
    "logreg.coef_[0]"
   ]
  },
  {
   "cell_type": "code",
   "execution_count": 71,
   "metadata": {},
   "outputs": [
    {
     "data": {
      "text/plain": [
       "array([ 0.77631942, -1.60013124,  2.617842  , -1.95041577, -1.37704688,\n",
       "        0.0582769 ,  1.16100719,  4.36295408, -0.83146298, -2.7521163 ,\n",
       "        1.45774964, -3.10695353, -2.19205145])"
      ]
     },
     "execution_count": 71,
     "metadata": {},
     "output_type": "execute_result"
    }
   ],
   "source": [
    "weights"
   ]
  },
  {
   "cell_type": "markdown",
   "metadata": {},
   "source": [
    "## Level - Up\n",
    "\n",
    "Update the gradient descent algorithm to also return the prediction error after each iteration. Then rerun the algorithm and create a graph displaying the prediction errors versus the iteration number."
   ]
  },
  {
   "cell_type": "code",
   "execution_count": 76,
   "metadata": {},
   "outputs": [
    {
     "data": {
      "image/png": "[encoded data removed]",
      "text/plain": [
       "<Figure size 432x288 with 1 Axes>"
      ]
     },
     "metadata": {},
     "output_type": "display_data"
    }
   ],
   "source": [
    "# Your code here\n",
    "\n",
    "# Your code here\n",
    "def grad_desc(X, y, max_iterations, alpha, initial_weights=None):\n",
    "    \"\"\"Be sure to set default behavior for the initial_weights parameter.\"\"\"\n",
    "    if initial_weights == None:\n",
    "        initial_weights = np.ones((X.shape[1], 1)).flatten()\n",
    "        initial_weights += 1\n",
    "        \n",
    "    weights_col = pd.DataFrame(initial_weights)\n",
    "    weights = initial_weights\n",
    "    \n",
    "    errors = []\n",
    "        \n",
    "        \n",
    "    #Create a for loop of iterations\n",
    "        \n",
    "    for iteration in range(max_iterations):\n",
    "            \n",
    "    #Generate predictions using the current feature weights\n",
    "        predictions = sigmoid(predict_y(X,weights))\n",
    "            \n",
    "       #Calculate an error vector based on these initial predictions and the correct labels    \n",
    "        error = y - predictions\n",
    "        \n",
    "        #Calculate the gradient \n",
    "        #As we saw in the previous lab, calculating the gradient is often the most difficult task.\n",
    "        #Here, your are provided with the closed form solution for the gradient of the log-loss function derived from MLE\n",
    "        #For more details on the derivation, see the additional resources section below.\n",
    "        gradient = np.dot(X.transpose(),error) \n",
    "        weights += alpha * gradient\n",
    "        weights_col = pd.concat([weights_col, pd.DataFrame(weights)], axis = 1)\n",
    "        errors.append(np.abs(error).sum())\n",
    "    return weights, weights_col, errors\n",
    "\n",
    "max_it = 50000\n",
    "\n",
    "weights, weights_col, training_errors = grad_desc(X, y, max_iterations = max_it, alpha = .001)\n",
    "\n",
    "plt.plot(list(range(max_it)), training_errors)\n",
    "plt.show()\n",
    "        \n",
    "        \n",
    "        \n",
    "        #Update the weight vector take a step of alpha in direction of gradient \n",
    "    #Return finalized Weights"
   ]
  },
  {
   "cell_type": "markdown",
   "metadata": {},
   "source": [
    "## Additional Resources\n",
    "\n",
    "If you want to see more of the mathematics behind the gradient derivation above, check out section 4.4.1 from the Elements of Statistical Learning which can be found here: https://web.stanford.edu/~hastie/ElemStatLearn//."
   ]
  },
  {
   "cell_type": "markdown",
   "metadata": {},
   "source": [
    "## Summary\n",
    "\n",
    "Congratulations! You just coded logistic regression from the ground up using NumPy! With this, you should have a fairly deep understanding of logistic regression and how the algorithm works! In the upcoming labs, we'll continue to explore this from a few more angles, plotting our data along with the decision boundary for our predictions."
   ]
  }
 ],
 "metadata": {
  "kernelspec": {
   "display_name": "Python 3",
   "language": "python",
   "name": "python3"
  },
  "language_info": {
   "codemirror_mode": {
    "name": "ipython",
    "version": 3
   },
   "file_extension": ".py",
   "mimetype": "text/x-python",
   "name": "python",
   "nbconvert_exporter": "python",
   "pygments_lexer": "ipython3",
   "version": "3.6.5"
  }
 },
 "nbformat": 4,
 "nbformat_minor": 2
}
